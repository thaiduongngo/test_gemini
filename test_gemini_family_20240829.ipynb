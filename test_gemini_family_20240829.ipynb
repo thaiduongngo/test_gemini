{
 "cells": [
  {
   "cell_type": "code",
   "execution_count": 1,
   "id": "cb593960-2609-47fd-84b1-79be4475b11f",
   "metadata": {},
   "outputs": [],
   "source": [
    "import os\n",
    "import google.generativeai as genai\n",
    "from time import time\n",
    "from dotenv import load_dotenv\n",
    "from IPython import display\n",
    "from IPython.display import Image\n",
    "from pydub import AudioSegment"
   ]
  },
  {
   "cell_type": "code",
   "execution_count": 2,
   "id": "41131867-9251-4233-9645-2f9284a2752e",
   "metadata": {},
   "outputs": [],
   "source": [
    "load_dotenv()\n",
    "\n",
    "# Load Gemini key\n",
    "genai.configure(api_key=os.environ.get(\"GEMINI_API_KEY\"))\n",
    "\n",
    "\n",
    "# Setup safety_settings\n",
    "safety_settings = [\n",
    "    {\n",
    "        \"category\": \"HARM_CATEGORY_HARASSMENT\",\n",
    "        \"threshold\": \"BLOCK_NONE\",\n",
    "    },\n",
    "    {\n",
    "        \"category\": \"HARM_CATEGORY_DANGEROUS_CONTENT\",\n",
    "        \"threshold\": \"BLOCK_NONE\",\n",
    "    },\n",
    "    {\n",
    "        \"category\": \"HARM_CATEGORY_HATE_SPEECH\",\n",
    "        \"threshold\": \"BLOCK_NONE\",\n",
    "    },\n",
    "    {\n",
    "        \"category\": \"HARM_CATEGORY_SEXUALLY_EXPLICIT\",\n",
    "        \"threshold\": \"BLOCK_NONE\",\n",
    "    },\n",
    "]\n",
    "\n",
    "# Genera config\n",
    "generation_config = {\n",
    "  \"temperature\": 0,\n",
    "  \"top_p\": 0.95,\n",
    "  \"top_k\": 64,\n",
    "  \"max_output_tokens\": 8192,\n",
    "  \"response_mime_type\": \"text/plain\",\n",
    "}\n",
    "\n",
    "\n",
    "gemini_pro_exp = \"gemini-1.5-pro-exp-0827\"\n",
    "gemini_flash_exp = \"gemini-1.5-flash-exp-0827\"\n",
    "gemini_flash_8b_exp = \"gemini-1.5-flash-8b-exp-0827\""
   ]
  },
  {
   "cell_type": "code",
   "execution_count": 3,
   "id": "d52da701-35e7-4530-bd12-9d1e22052073",
   "metadata": {},
   "outputs": [
    {
     "name": "stdout",
     "output_type": "stream",
     "text": [
      "[0.002266675, -0.014539996, -0.05770522, -0.0032521093, -0.017192075, -0.0060177525, 0.05788573, 0.029566405, 0.029266922, 0.056595627]\n"
     ]
    }
   ],
   "source": [
    "text = \"Hello World!\"\n",
    "embedding_model = \"models/text-embedding-004\"\n",
    "\n",
    "result = genai.embed_content(\n",
    "    model=embedding_model,\n",
    "    content=text,\n",
    "    output_dimensionality=10,\n",
    ")\n",
    "\n",
    "print(result[\"embedding\"])"
   ]
  },
  {
   "cell_type": "code",
   "execution_count": 4,
   "id": "a1a1e3c7-ea70-4dc7-8f7c-30f453995d91",
   "metadata": {},
   "outputs": [],
   "source": [
    "def gen_content(\n",
    "    user_prompts,\n",
    "    model_name,\n",
    "    system_prompt=None,\n",
    "    safety_settings=safety_settings,\n",
    "    generation_config=generation_config,\n",
    "    debug = True,\n",
    ") -> str:\n",
    "    # Create the model\n",
    "    model = genai.GenerativeModel(\n",
    "        model_name=model_name,\n",
    "        generation_config=generation_config,\n",
    "        safety_settings = safety_settings,\n",
    "        system_instruction=system_prompt,\n",
    "    )\n",
    "    start = time()\n",
    "    response = model.generate_content(\n",
    "        user_prompts\n",
    "    )\n",
    "    end = time()\n",
    "    return {\n",
    "        \"text\": response.text,\n",
    "        \"model_name\": model_name,\n",
    "        \"latency\": end - start\n",
    "    }\n",
    "\n",
    "\n",
    "def show_metadata(res):\n",
    "    print(f\"----------------- {res[\"model_name\"]} -----------------\")\n",
    "    print(f\"Latency: {res[\"latency\"]}\")"
   ]
  },
  {
   "cell_type": "code",
   "execution_count": 5,
   "id": "604fdfcb-02b8-44f4-90e7-f8e9e9c2c00a",
   "metadata": {},
   "outputs": [],
   "source": [
    "passage_prompt = \"\"\"\n",
    "Given a ###passage###:\n",
    "\n",
    "Corporate managers often work in groups because of the complexity of strategic prob-lems. A consensus-seeking group's effectiveness may be impaired, however, if the group\n",
    "(5) values harmony over open evaluation of\n",
    "ideas. Consequently, some theorists advocate\n",
    "building decisional conflict into the group process. Doing so, they argue, should yield better decisions. While conflict potentially\n",
    "(10) offers benefits, a group's effectiveness also depends on members' reactions to group experiences. Ideally, the group process wins the commitment of its members. The process, though, may generate so much divisiveness\n",
    "(15) that implementation and future cooperation are undermined. Management groups thus face an apparent dilemma: decisional conflict may yield better decisions at the risk of weakening managerial effectiveness. Conversely,\n",
    "(20) the harmony that facilitates cooperation and implementation may come at the cost of infe-\n",
    "Efforts to build conflict into group decision making have focused on two approaches,\n",
    "(25) dialectical inquiry and devil's advocacy. Both work by dividing the group into two competing subgroups, relying on formal debate to prevent uncritical acceptance of the seemingly obvious, and continuing until participants\n",
    "(30) agree on a decision. The approaches differ in the roles played by the subgroups. In dialectical inquiry, the subgroups present opposed sets of assumptions and recommendations, and debate until they reach agreement. In\n",
    "(35) devil's advocacy, the second subgroup critiques the assumptions and recommendations of the first, but offers no alternative. The first subgroup revises its ideas and presents them for a second critique. The process con-\n",
    "(40) tinues until the subgroups agree.\n",
    "The varying roles of the subgroups have led to disagreement among theorists over the effectiveness of the approaches. Mason and Mitroff claim that devil's advocacy does not\n",
    "(45) identify suitable alternatives, whereas dialectical inquiry's juxtaposition of opposed sets of ideas does so. Cosier, however, argues that dialectical inquiry adds potentially confusing steps to the process that would require exten-\n",
    "(50) sive training, and may run counter to managers' accustomed ways of thinking; he also feels that this approach may lead to excessive compromise.\n",
    "\"\"\""
   ]
  },
  {
   "cell_type": "code",
   "execution_count": 6,
   "id": "9c87ae10-7b94-4bfc-802d-7fd489c85f9d",
   "metadata": {},
   "outputs": [],
   "source": [
    "instruction_prompt = \"Answer the question below, choose a right option, and only base on the ###passage### above:\"\n",
    "system_prompt = \"You are a helpful assitant to reason and find out the right answer. Explain step-by-step.\""
   ]
  },
  {
   "cell_type": "code",
   "execution_count": 7,
   "id": "2f36784d-ea37-4fe4-b3ee-d545ceac30c1",
   "metadata": {},
   "outputs": [],
   "source": [
    "q1 = \"\"\"\n",
    "The author's primary purpose in the passage is to\n",
    "A. emphasize the benefits of group decision making and reconcile two differing approaches\n",
    "B. describe the benefits and risks of decisional conflict and alternative means of its use\n",
    "C. defend an innovative method of group management against its critics\n",
    "D. argue that group decision making is superior to any other decision-making approach\n",
    "E. advocate one method of group decision making over another\n",
    "\"\"\"\n",
    "\n",
    "q2 = \"\"\"\n",
    "It can be inferred from the passage that advocates of both the dialectical inquiry and devil's advocacy processes would agree with which of the following statements?\n",
    "A. Superior decisions often reflect compromises made between opposing views.\n",
    "B. Superior decisions stem from a consideration of opposing sets of proposals.\n",
    "C. Managers should avoid changing their customary ways of thinking.\n",
    "D. Formal debate can lead to a more thorough understanding of a problem.\n",
    "E. Effective group management requires extensive training.\n",
    "\"\"\"\n",
    "\n",
    "q3 = \"\"\"\n",
    "Which one of the following, if true, would counter Cosier's criticism of dialectical inquiry?\n",
    "A. Frequent compromises among managers may lead to ill-advised actions.\n",
    "B. Demanding that managers agree often weakens implementation of decisions.\n",
    "C. Encouraging conflict among managers improves the quality of decisions.\n",
    "D. Some managerial decisions must be made and implemented rapidly to be effective.\n",
    "E. Managers willing to alter their accustomed modes of thinking often make better decisions.\n",
    "\"\"\"\n",
    "\n",
    "q4 = \"\"\"\n",
    "Which of the following exemplifies the functioning of management groups, as those groups are described in the passage?\n",
    "A. citizens group gathers to monitor the results of a closely contested election.\n",
    "B. special prosecutor's office organizes to investigate alleged misconduct on the part of government officials.\n",
    "C. committee of administrators forms to address the major problems of running a hospital.\n",
    "D. panel of experts assembles to study an issue of growing public concern.\n",
    "E. faculty committee forms to observe the search for a college president.\n",
    "\"\"\"\n",
    "\n",
    "q5 = \"\"\"\n",
    "Manager: The success ratio for new businesses is lower than ever, with only 12 percent surviving the first two years. Furthermore, many businesses already operating are doing so at a loss, or with their lowest profit margin in decades. The blame must fall on the excessive demands of the workers. Profits drop in order to pay for new paint, radios, and artwork. We have lost sight of the fact that work is intended to be productive, not enjoyable.\n",
    "Which of the following, if true, would most weaken the manager's argument?\n",
    "A. Workers, whether they are performing productively or not, often have very difficult and highly taxing duties.\n",
    "B. In most cases, improvements in the work environment increase productivity by increasing worker satisfaction.\n",
    "C. The failure of many businesses in the past was due to exorbitant taxation rather than excessive demands of the workers.\n",
    "D. The failure of a new business is not necessarily the same thing as the failure of an already existing business.\n",
    "E. The failure of a new business is not necessarily the same thing as operating an already existing business without a profit.\n",
    "\"\"\""
   ]
  },
  {
   "cell_type": "markdown",
   "id": "62249ce6-c6ef-4b62-a4e6-b2458e6a2b5b",
   "metadata": {},
   "source": [
    "- Q1. B\n",
    "- Q2. D\n",
    "- Q3. E\n",
    "- Q4. C\n",
    "- Q5. B"
   ]
  },
  {
   "cell_type": "code",
   "execution_count": 8,
   "id": "0d41d0a8-bd7a-4401-bbfa-6aae1f4f761a",
   "metadata": {},
   "outputs": [
    {
     "name": "stdout",
     "output_type": "stream",
     "text": [
      "----------------- gemini-1.5-flash-8b-exp-0827 -----------------\n",
      "Latency: 3.3533990383148193\n"
     ]
    },
    {
     "data": {
      "text/markdown": [
       "**1. Identify the main topic:**\n",
       "\n",
       "The passage discusses the challenges and benefits of decisional conflict in group settings, specifically exploring two methods (dialectical inquiry and devil's advocacy) to introduce this conflict.\n",
       "\n",
       "**2. Analyze the author's approach:**\n",
       "\n",
       "The author presents a balanced view, acknowledging both the potential advantages and disadvantages of decisional conflict. They also describe two different approaches to achieve this conflict, highlighting their differences and potential drawbacks.\n",
       "\n",
       "**3. Match the purpose to the options:**\n",
       "\n",
       "* **A. emphasize the benefits of group decision making and reconcile two differing approaches:** While the passage does discuss group decision making, it doesn't solely focus on its benefits. It also explores the risks and different approaches to manage conflict. This option is too narrow.\n",
       "* **B. describe the benefits and risks of decisional conflict and alternative means of its use:** This accurately reflects the passage's content. It describes the benefits and risks of decisional conflict and then presents two methods to achieve it.\n",
       "* **C. defend an innovative method of group management against its critics:**  While the passage does discuss the two methods, it doesn't present a strong defense of either. It rather presents a balanced view of both.\n",
       "* **D. argue that group decision making is superior to any other decision-making approach:** The passage doesn't make this claim. It focuses on the specific issue of decisional conflict and its management.\n",
       "* **E. advocate one method of group decision making over another:** The passage doesn't advocate for one method over another. It presents both methods and their potential drawbacks.\n",
       "\n",
       "\n",
       "**Answer:**\n",
       "\n",
       "The most accurate answer is **B. describe the benefits and risks of decisional conflict and alternative means of its use**\n",
       "\n",
       "**Explanation:** The passage clearly outlines the advantages and disadvantages of decisional conflict, and then presents two different approaches to achieve it. This aligns perfectly with the description in option B.\n"
      ],
      "text/plain": [
       "<IPython.core.display.Markdown object>"
      ]
     },
     "execution_count": 8,
     "metadata": {},
     "output_type": "execute_result"
    }
   ],
   "source": [
    "res = gen_content(\n",
    "    user_prompts=[passage_prompt, instruction_prompt, q1],\n",
    "    model_name=gemini_flash_8b_exp,\n",
    "    system_prompt=system_prompt,\n",
    ")\n",
    "\n",
    "show_metadata(res)\n",
    "display.Markdown(res[\"text\"])"
   ]
  },
  {
   "cell_type": "code",
   "execution_count": 9,
   "id": "a76630a8-7339-441b-bf5d-f0b2e78cbddc",
   "metadata": {},
   "outputs": [
    {
     "name": "stdout",
     "output_type": "stream",
     "text": [
      "----------------- gemini-1.5-pro-exp-0827 -----------------\n",
      "Latency: 8.52599811553955\n"
     ]
    },
    {
     "data": {
      "text/markdown": [
       "**The manager's argument is that excessive demands of workers (for better work environments) are to blame for the low success rate of new businesses and low profit margins of existing businesses.**\n",
       "\n",
       "To weaken this argument, we need to find an option that shows the demands of workers are NOT the primary cause of these problems, or that these demands actually have a positive effect.\n",
       "\n",
       "Let's analyze the options:\n",
       "\n",
       "* **A. Workers, whether they are performing productively or not, often have very difficult and highly taxing duties.**  This doesn't directly address the manager's claim about worker demands causing business failures. It simply states that work can be difficult.\n",
       "\n",
       "* **B. In most cases, improvements in the work environment increase productivity by increasing worker satisfaction.**  **This directly contradicts the manager's claim.** It suggests that meeting worker demands (improvements in the work environment) can actually lead to *higher* productivity, not lower profits.\n",
       "\n",
       "* **C. The failure of many businesses in the past was due to exorbitant taxation rather than excessive demands of the workers.** This offers an alternative explanation for business failures in the past but doesn't directly address the current situation.\n",
       "\n",
       "* **D. The failure of a new business is not necessarily the same thing as the failure of an already existing business.** This is true but doesn't weaken the manager's argument about the causes of failure in either case.\n",
       "\n",
       "* **E. The failure of a new business is not necessarily the same thing as operating an already existing business without a profit.** Similar to D, this is true but doesn't address the manager's claims about the causes of these issues.\n",
       "\n",
       "**Therefore, option B is the best choice to weaken the manager's argument because it directly suggests that meeting worker demands can lead to increased productivity, contradicting the manager's claim that these demands are harmful to businesses.**\n",
       "\n",
       "**The answer is B.**"
      ],
      "text/plain": [
       "<IPython.core.display.Markdown object>"
      ]
     },
     "execution_count": 9,
     "metadata": {},
     "output_type": "execute_result"
    }
   ],
   "source": [
    "res = gen_content(\n",
    "    user_prompts=[passage_prompt, instruction_prompt, q5],\n",
    "    model_name=gemini_pro_exp,\n",
    "    system_prompt=system_prompt,\n",
    ")\n",
    "\n",
    "show_metadata(res)\n",
    "display.Markdown(res[\"text\"])"
   ]
  },
  {
   "cell_type": "code",
   "execution_count": 10,
   "id": "99296128-85c6-4ece-ad51-e6cb7db6d235",
   "metadata": {},
   "outputs": [
    {
     "name": "stdout",
     "output_type": "stream",
     "text": [
      "----------------- gemini-1.5-pro-exp-0827 -----------------\n",
      "Latency: 9.531157970428467\n"
     ]
    },
    {
     "data": {
      "text/markdown": [
       "**1. Understand the question:**\n",
       "\n",
       "The question asks what advocates of BOTH dialectical inquiry and devil's advocacy would agree on. This means the answer must be something supported by both approaches.\n",
       "\n",
       "**2. Analyze the passage:**\n",
       "\n",
       "* **Dialectical inquiry:** Two subgroups present opposing sets of assumptions and recommendations and debate until they reach agreement.\n",
       "* **Devil's advocacy:** One subgroup presents a proposal, and the other critiques it without offering an alternative. The first subgroup revises based on the critique until both agree.\n",
       "\n",
       "**3. Evaluate the options:**\n",
       "\n",
       "* **A. Superior decisions often reflect compromises made between opposing views.**  While dialectical inquiry might lead to compromise, devil's advocacy focuses more on refining a single proposal through critique. So, this isn't necessarily true for both.\n",
       "* **B. Superior decisions stem from a consideration of opposing sets of proposals.** Dialectical inquiry explicitly involves considering opposing proposals. Devil's advocacy, while not directly presenting opposing proposals, forces the first subgroup to consider alternative perspectives through the critique. This is a point of agreement.\n",
       "* **C. Managers should avoid changing their customary ways of thinking.** The passage mentions Cosier's concern that dialectical inquiry might clash with managers' usual thinking, suggesting this isn't a shared belief.\n",
       "* **D. Formal debate can lead to a more thorough understanding of a problem.** Both approaches rely on formal debate (as stated in lines 27-30), making this a likely point of agreement.\n",
       "* **E. Effective group management requires extensive training.**  Only dialectical inquiry is mentioned as potentially requiring extensive training, not devil's advocacy.\n",
       "\n",
       "**4. Compare the likely options:**\n",
       "\n",
       "Both B and D seem like potential points of agreement. However, the core principle of both approaches is the use of structured debate to challenge assumptions and refine ideas. This aligns more closely with D.\n",
       "\n",
       "**5. Conclusion:**\n",
       "\n",
       "The most logical inference is that advocates of both dialectical inquiry and devil's advocacy would agree that **formal debate can lead to a more thorough understanding of a problem.**\n",
       "\n",
       "**Therefore, the correct answer is D.**"
      ],
      "text/plain": [
       "<IPython.core.display.Markdown object>"
      ]
     },
     "execution_count": 10,
     "metadata": {},
     "output_type": "execute_result"
    }
   ],
   "source": [
    "res = gen_content(\n",
    "    user_prompts=[passage_prompt, instruction_prompt, q2],\n",
    "    model_name=gemini_pro_exp,\n",
    "    system_prompt=system_prompt,\n",
    ")\n",
    "\n",
    "show_metadata(res)\n",
    "display.Markdown(res[\"text\"])"
   ]
  },
  {
   "cell_type": "code",
   "execution_count": 11,
   "id": "7528dfbf-b4d5-4b2c-85a5-5e93c93fc86b",
   "metadata": {},
   "outputs": [],
   "source": [
    "file = AudioSegment.from_file('41c377ce-ae15-4b9d-a01d-54a9e249dc28.m4a')"
   ]
  },
  {
   "cell_type": "code",
   "execution_count": 12,
   "id": "2dee9850-e170-4e72-8a3a-45165c97c016",
   "metadata": {},
   "outputs": [],
   "source": [
    "audio_prompts = [\n",
    "    \"Accurately transcribe the audio above in Vietnamese to text format.\",\n",
    "    {\n",
    "        \"mime_type\": \"audio/x-m4a\",\n",
    "        \"data\": file.export().read(),\n",
    "    }\n",
    "]\n",
    "\n",
    "res = gen_content(\n",
    "    user_prompts=audio_prompts,\n",
    "    model_name=gemini_pro_exp,\n",
    ")\n",
    "\n",
    "output_text = res[\"text\"]"
   ]
  },
  {
   "cell_type": "code",
   "execution_count": 13,
   "id": "2659f325-6587-4856-904a-136e336b2177",
   "metadata": {},
   "outputs": [],
   "source": [
    "question = \"Did the customer confirm to buy the product? Only return Yes or No.\"\n",
    "# display.Markdown(output_text)"
   ]
  },
  {
   "cell_type": "code",
   "execution_count": 14,
   "id": "5ea8ccf0-39f1-46b6-944f-1c4554d10ca8",
   "metadata": {},
   "outputs": [
    {
     "name": "stdout",
     "output_type": "stream",
     "text": [
      "----------------- gemini-1.5-flash-8b-exp-0827 -----------------\n",
      "Latency: 1.0029609203338623\n"
     ]
    },
    {
     "data": {
      "text/markdown": [
       "Yes"
      ],
      "text/plain": [
       "<IPython.core.display.Markdown object>"
      ]
     },
     "execution_count": 14,
     "metadata": {},
     "output_type": "execute_result"
    }
   ],
   "source": [
    "res = gen_content(\n",
    "    user_prompts=[\n",
    "        output_text,\n",
    "        question\n",
    "    ],\n",
    "    model_name=gemini_flash_8b_exp,\n",
    "    system_prompt=\"You are a quality-controller.\",\n",
    ")\n",
    "\n",
    "show_metadata(res)\n",
    "display.Markdown(res[\"text\"])"
   ]
  },
  {
   "cell_type": "code",
   "execution_count": 15,
   "id": "9ca6b2ea-1309-4951-af2d-4b23d35c2048",
   "metadata": {},
   "outputs": [
    {
     "name": "stdout",
     "output_type": "stream",
     "text": [
      "----------------- gemini-1.5-flash-8b-exp-0827 -----------------\n",
      "Latency: 1.7282507419586182\n"
     ]
    },
    {
     "data": {
      "text/markdown": [
       "No"
      ],
      "text/plain": [
       "<IPython.core.display.Markdown object>"
      ]
     },
     "execution_count": 15,
     "metadata": {},
     "output_type": "execute_result"
    }
   ],
   "source": [
    "res = gen_content(\n",
    "    user_prompts=[\n",
    "        output_text,\n",
    "        question\n",
    "    ],\n",
    "    model_name=gemini_flash_8b_exp,\n",
    "    system_prompt=\"You are a strict quality-controller.\",\n",
    ")\n",
    "\n",
    "show_metadata(res)\n",
    "display.Markdown(res[\"text\"])"
   ]
  },
  {
   "cell_type": "code",
   "execution_count": 16,
   "id": "f238007b-3a4a-4c94-82d7-d5badcaa7f95",
   "metadata": {},
   "outputs": [
    {
     "name": "stdout",
     "output_type": "stream",
     "text": [
      "----------------- gemini-1.5-flash-8b-exp-0827 -----------------\n",
      "Latency: 2.3419110774993896\n"
     ]
    },
    {
     "data": {
      "text/markdown": [
       "To solve the quadratic equation  x² - 2x + 19 = 0, we can use the quadratic formula:\n",
       "\n",
       "**Quadratic Formula:**\n",
       "\n",
       "For an equation of the form ax² + bx + c = 0, the solutions for x are given by:\n",
       "\n",
       "x = (-b ± √(b² - 4ac)) / 2a\n",
       "\n",
       "**Identify a, b, and c:**\n",
       "\n",
       "In our equation, x² - 2x + 19 = 0:\n",
       "\n",
       "* a = 1\n",
       "* b = -2\n",
       "* c = 19\n",
       "\n",
       "**Substitute into the formula:**\n",
       "\n",
       "x = (-(-2) ± √((-2)² - 4 * 1 * 19)) / (2 * 1)\n",
       "x = (2 ± √(4 - 76)) / 2\n",
       "x = (2 ± √(-72)) / 2\n",
       "\n",
       "**Simplify:**\n",
       "\n",
       "Since we have a negative number under the square root, the solutions will be complex numbers.\n",
       "\n",
       "x = (2 ± √(72 * -1)) / 2\n",
       "x = (2 ± √72i) / 2\n",
       "x = (2 ± 6√2i) / 2\n",
       "x = 1 ± 3√2i\n",
       "\n",
       "**Solution:**\n",
       "\n",
       "The solutions to the equation x² - 2x + 19 = 0 are:\n",
       "\n",
       "x = 1 + 3√2i  and  x = 1 - 3√2i\n",
       "\n",
       "\n",
       "**Therefore, the solutions are complex numbers.**"
      ],
      "text/plain": [
       "<IPython.core.display.Markdown object>"
      ]
     },
     "execution_count": 16,
     "metadata": {},
     "output_type": "execute_result"
    }
   ],
   "source": [
    "res = gen_content(\n",
    "    user_prompts=[\"Solve this problem\", \"x2 - 2x + 19 = 0\"],\n",
    "    model_name=gemini_flash_8b_exp,\n",
    ")\n",
    "\n",
    "show_metadata(res)\n",
    "display.Markdown(res[\"text\"])"
   ]
  },
  {
   "cell_type": "code",
   "execution_count": 17,
   "id": "98f15500-c342-44c2-8328-81302d54a9fd",
   "metadata": {},
   "outputs": [
    {
     "data": {
      "image/jpeg": "[encoded data removed]",
      "text/plain": [
       "<IPython.core.display.Image object>"
      ]
     },
     "metadata": {},
     "output_type": "display_data"
    }
   ],
   "source": [
    "stars = Image(\"stars.jpg\")\n",
    "display.display(stars)"
   ]
  },
  {
   "cell_type": "code",
   "execution_count": 18,
   "id": "da5258c5-e996-4ec7-91b9-f278165c39f7",
   "metadata": {},
   "outputs": [
    {
     "name": "stdout",
     "output_type": "stream",
     "text": [
      "----------------- gemini-1.5-pro-exp-0827 -----------------\n",
      "Latency: 6.2239179611206055\n"
     ]
    },
    {
     "data": {
      "text/markdown": [
       "There are 12 stars in the picture. They are all different colors and sizes, and they are scattered across the page.\n",
       "\n",
       "\n",
       "Here's a description of their approximate locations:\n",
       "\n",
       "1. **Top left:** A multicolored star with yellow, pink, and red sections.\n",
       "2. **Top middle:** A smaller, orange and green star.\n",
       "3. **Center left:** A multicolored star with pink, purple, gray, and yellow sections.\n",
       "4. **Center:** A large multicolored star with yellow, brown, red, and blue sections.\n",
       "5. **Center bottom:** A small, brown star.\n",
       "6. **Top right:** A brown star.\n",
       "7. **Right middle:** A small, yellow and black star.\n",
       "8. **Bottom right:** A small, purple and yellow star.\n",
       "9. **Right middle, slightly above center:** A small, blue and white star.\n",
       "10. **Right of center, below the brown star:** A small, multicolored star with pink, purple, and yellow sections.\n",
       "11. **Above the large central star:** A smaller, multicolored star with orange, red, and yellow sections.\n",
       "12. **Right of the large central star:** A small, multicolored star with red, yellow, and blue sections."
      ],
      "text/plain": [
       "<IPython.core.display.Markdown object>"
      ]
     },
     "execution_count": 18,
     "metadata": {},
     "output_type": "execute_result"
    }
   ],
   "source": [
    "res = gen_content(\n",
    "    user_prompts=[\"List all stars in the picture below:\",\n",
    "                  stars],\n",
    "    model_name=gemini_pro_exp,\n",
    ")\n",
    "\n",
    "show_metadata(res)\n",
    "display.Markdown(res[\"text\"])"
   ]
  },
  {
   "cell_type": "code",
   "execution_count": 19,
   "id": "54a4a1cb-5f76-4042-a863-3ecf55f2cbeb",
   "metadata": {},
   "outputs": [
    {
     "data": {
      "image/jpeg": "[encoded data removed]",
      "text/plain": [
       "<IPython.core.display.Image object>"
      ]
     },
     "metadata": {},
     "output_type": "display_data"
    }
   ],
   "source": [
    "puzzle1 = Image(\"puzzle1.jpg\")\n",
    "display.display(puzzle1)"
   ]
  },
  {
   "cell_type": "code",
   "execution_count": 20,
   "id": "519fda2c-f8e6-41df-812d-7409891796d5",
   "metadata": {},
   "outputs": [
    {
     "name": "stdout",
     "output_type": "stream",
     "text": [
      "----------------- gemini-1.5-flash-8b-exp-0827 -----------------\n",
      "Latency: 3.0525600910186768\n"
     ]
    },
    {
     "data": {
      "text/markdown": [
       "**1. Assign variables:**\n",
       "\n",
       "* Let 'c' represent the value of the car.\n",
       "* Let 's' represent the value of the scooter.\n",
       "* Let 'h' represent the value of the helicopter.\n",
       "* Let 'p' represent the value of the plane.\n",
       "\n",
       "\n",
       "**2. Translate the equations:**\n",
       "\n",
       "*  c - 2 = s  (Equation 1)\n",
       "*  c + c + c = 27  (Equation 2)\n",
       "*  s = h - 1  (Equation 3)\n",
       "*  h = p + p  (Equation 4)\n",
       "*  p = ?  (Equation 5)\n",
       "\n",
       "\n",
       "**3. Solve for the value of 'c' (car):**\n",
       "\n",
       "*  From Equation 2, we have 3c = 27\n",
       "*  Therefore, c = 27 / 3 = 9\n",
       "\n",
       "\n",
       "**4. Solve for the value of 's' (scooter):**\n",
       "\n",
       "*  Substitute the value of 'c' in Equation 1: 9 - 2 = s\n",
       "*  Therefore, s = 7\n",
       "\n",
       "\n",
       "**5. Solve for the value of 'h' (helicopter):**\n",
       "\n",
       "*  Substitute the value of 's' in Equation 3: 7 = h - 1\n",
       "*  Therefore, h = 7 + 1 = 8\n",
       "\n",
       "\n",
       "**6. Solve for the value of 'p' (plane):**\n",
       "\n",
       "*  Substitute the value of 'h' in Equation 4: 8 = p + p\n",
       "*  Therefore, 2p = 8 and p = 8 / 2 = 4\n",
       "\n",
       "\n",
       "**Answer:**\n",
       "\n",
       "The value of the plane is 4. \n",
       "\n",
       "Therefore, the answer to the puzzle is  **4**"
      ],
      "text/plain": [
       "<IPython.core.display.Markdown object>"
      ]
     },
     "execution_count": 20,
     "metadata": {},
     "output_type": "execute_result"
    }
   ],
   "source": [
    "res = gen_content(\n",
    "    user_prompts=[\"Solve this puzzle\", puzzle1],\n",
    "    model_name=gemini_flash_8b_exp,\n",
    "    system_prompt=\"You are a puzzle solver. Do reasoning step-by-step to get right answer.\"\n",
    ")\n",
    "\n",
    "show_metadata(res)\n",
    "display.Markdown(res[\"text\"])"
   ]
  },
  {
   "cell_type": "code",
   "execution_count": 21,
   "id": "903d54f1-1d06-49b2-aec1-9a67533ba9ff",
   "metadata": {},
   "outputs": [
    {
     "data": {
      "image/jpeg": "[encoded data removed]",
      "text/plain": [
       "<IPython.core.display.Image object>"
      ]
     },
     "metadata": {},
     "output_type": "display_data"
    }
   ],
   "source": [
    "puzzle2 = Image(\"puzzle2.jpg\")\n",
    "display.display(puzzle2)"
   ]
  },
  {
   "cell_type": "code",
   "execution_count": 22,
   "id": "80ef2c8b-128f-4716-9c85-8575786d700a",
   "metadata": {},
   "outputs": [
    {
     "name": "stdout",
     "output_type": "stream",
     "text": [
      "----------------- gemini-1.5-flash-8b-exp-0827 -----------------\n",
      "Latency: 2.9838390350341797\n"
     ]
    },
    {
     "data": {
      "text/markdown": [
       "**1. Assign Values:**\n",
       "\n",
       "*  Let's assign a value to each icon:\n",
       "    * Camera = 3\n",
       "    * Phone = 2\n",
       "    * TV = 1\n",
       "    * Microscope = 4\n",
       "\n",
       "**2.  Solve the Equations:**\n",
       "\n",
       "* **Camera = Phone + Phone**  \n",
       "   3 = 2 + 2  (This checks out)\n",
       "* **8 - TV = TV**\n",
       "   8 - 1 = 1  (This checks out)\n",
       "* **Microscope = 2 + Phone**\n",
       "   4 = 2 + 2  (This checks out)\n",
       "* **Phone = TV**\n",
       "   2 = 1  (This doesn't check out, but we'll see if it fits the pattern)\n",
       "\n",
       "**3.  Find the Pattern:**\n",
       "\n",
       "*  The equations seem to be based on a combination of the icons and their values.  \n",
       "*  Let's look at the values we've assigned so far:\n",
       "    * Camera = 3 (3 = 2 + 1 + 0)\n",
       "    * Phone = 2 (2 = 2 + 0 + 0)\n",
       "    * TV = 1 (1 = 1 + 0 + 0)\n",
       "    * Microscope = 4 (4 = 2 + 1 + 1)\n",
       "\n",
       "**4.  Apply the Pattern:**\n",
       "\n",
       "*  Let's look at the final equation: **Camera + TV - Microscope = ?**\n",
       "*  We have the values: 3 + 1 - 4 = ?\n",
       "*  3 + 1 - 4 = 0\n",
       "\n",
       "**Answer:** The answer is **0**"
      ],
      "text/plain": [
       "<IPython.core.display.Markdown object>"
      ]
     },
     "execution_count": 22,
     "metadata": {},
     "output_type": "execute_result"
    }
   ],
   "source": [
    "res = gen_content(\n",
    "    user_prompts=[\"Solve this puzzle\", puzzle2],\n",
    "    model_name=gemini_flash_8b_exp,\n",
    ")\n",
    "\n",
    "show_metadata(res)\n",
    "display.Markdown(res[\"text\"])"
   ]
  },
  {
   "cell_type": "code",
   "execution_count": 23,
   "id": "ebd9276c-4727-42cd-a501-5295f9503059",
   "metadata": {},
   "outputs": [
    {
     "name": "stdout",
     "output_type": "stream",
     "text": [
      "----------------- gemini-1.5-flash-8b-exp-0827 -----------------\n",
      "Latency: 2.20046329498291\n"
     ]
    },
    {
     "data": {
      "text/markdown": [
       "**1.  Analyze the given equations:**\n",
       "\n",
       "*   Camera = Phone + Phone \n",
       "*   8 - TV = TV \n",
       "*   Microscope = 2 + Phone\n",
       "*   Phone = TV\n",
       "\n",
       "\n",
       "**2.  Find the value of each symbol:**\n",
       "\n",
       "*   **Camera:**  Let's represent the camera with 'C', phone with 'P', and TV with 'T'.\n",
       "    *  C = P + P  => C = 2P\n",
       "*   **TV:**\n",
       "    *  8 - T = T  => 8 = 2T  => T = 4\n",
       "*   **Microscope:**\n",
       "    *  M = 2 + P  (where M is the microscope)\n",
       "*   **Phone:**\n",
       "    *  P = T  => P = 4\n",
       "\n",
       "\n",
       "**3.  Substitute the values:**\n",
       "\n",
       "*   C = 2P  => C = 2 * 4 = 8\n",
       "*   M = 2 + P  => M = 2 + 4 = 6\n",
       "\n",
       "\n",
       "**4.  Solve the final equation:**\n",
       "\n",
       "*   C + T - M = ?\n",
       "*   8 + 4 - 6 = ?\n",
       "*   12 - 6 = ?\n",
       "*   6 = ?\n",
       "\n",
       "\n",
       "**Answer:** The answer is  **6**"
      ],
      "text/plain": [
       "<IPython.core.display.Markdown object>"
      ]
     },
     "execution_count": 23,
     "metadata": {},
     "output_type": "execute_result"
    }
   ],
   "source": [
    "res = gen_content(\n",
    "    user_prompts=[\"Solve this puzzle\", puzzle2],\n",
    "    model_name=gemini_flash_8b_exp,\n",
    "    system_prompt=\"You are a puzzle solver. Do reasoning step-by-step to get right answer.\"\n",
    ")\n",
    "\n",
    "show_metadata(res)\n",
    "display.Markdown(res[\"text\"])"
   ]
  }
 ],
 "metadata": {
  "kernelspec": {
   "display_name": "Python 3 (ipykernel)",
   "language": "python",
   "name": "python3"
  },
  "language_info": {
   "codemirror_mode": {
    "name": "ipython",
    "version": 3
   },
   "file_extension": ".py",
   "mimetype": "text/x-python",
   "name": "python",
   "nbconvert_exporter": "python",
   "pygments_lexer": "ipython3",
   "version": "3.12.5"
  },
  "widgets": {
   "application/vnd.jupyter.widget-state+json": {
    "state": {},
    "version_major": 2,
    "version_minor": 0
   }
  }
 },
 "nbformat": 4,
 "nbformat_minor": 5
}
